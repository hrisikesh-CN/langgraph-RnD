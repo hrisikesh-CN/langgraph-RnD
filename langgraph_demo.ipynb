{
  "cells": [
    {
      "cell_type": "markdown",
      "metadata": {
        "id": "K_5AjNZyzx6J"
      },
      "source": [
        "# Understanding LangGraph"
      ]
    },
    {
      "cell_type": "markdown",
      "metadata": {
        "id": "8YNmQM5PzxAG"
      },
      "source": [
        "LangGraph is a special LangChain-built library that focuses on building intelligent AI Agents using graphs. Ie, agentic state machines."
      ]
    },
    {
      "cell_type": "markdown",
      "metadata": {
        "id": "Ri4iY0cqz2mr"
      },
      "source": [
        "We need these prerequisite libraries to run a graph visualization library (`pygraphviz`). We will use this library during this notebook to understand the structure of our graphs _but_ it is not required to use `langgraph`."
      ]
    },
    {
      "cell_type": "markdown",
      "metadata": {
        "id": "3VbV6-nrlVtq"
      },
      "source": [
        "We need a few libraries from LangChain:"
      ]
    },
    {
      "cell_type": "code",
      "execution_count": 2,
      "metadata": {
        "id": "FUt2EoJZu6M3"
      },
      "outputs": [],
      "source": [
        "!pip install -qU \\\n",
        "    langchain-openai==0.1.3 \\\n",
        "    langchain==0.1.16 \\\n",
        "    langchain-core==0.1.42 \\\n",
        "    langgraph==0.0.37 \\\n",
        "    langchainhub==0.1.15 \\\n",
        "    pygraphviz==1.12  # for visualizing"
      ]
    },
    {
      "cell_type": "markdown",
      "metadata": {
        "id": "hITmdwQ7Qns0"
      },
      "source": [
        "## Graph State\n",
        "**Graph State in LangGraph**\n",
        "\n",
        "In LangGraph, the **state** is a central data structure that represents the current snapshot of your application. It's essentially a shared memory area that's passed around between different nodes in the graph as they execute.\n",
        "\n",
        "**Key points about graph state:**\n",
        "\n",
        "* **Data structure:** It can be any Python type, but typically it's a `TypedDict` or a `Pydantic BaseModel` for better structure and type safety.\n",
        "* **Updates:** Each node in the graph can update the state with its return value after execution. The way the state is updated depends on the graph type or custom functions.\n",
        "* **Sharing:** The state is shared among all nodes in the graph, allowing them to access and modify it as needed.\n",
        "* **Persistence:** The state can be persisted using a checkpointer, enabling you to save and restore the graph's state at different points in time.\n",
        "\n",
        "**Example:**\n",
        "\n",
        "Imagine a graph representing a simple chatbot. The state could be a `TypedDict` with keys like `user_query`, `bot_response`, and `conversation_history`. As the chatbot interacts with the user, different nodes update the state with new information.\n",
        "\n",
        "\n",
        "\n",
        "--\n",
        "\n",
        "We will define a custom graph state to support our agent-oriented decision making. In this we will define:\n",
        "\n",
        "* our user `input` (ie the most recent message from the user)\n",
        "* `agent_out` which is used by the graph (and our final output) to consume/output agent outputs\n",
        "* `intermediate_steps` which is a list maintained over our graph runtime to keep track of the results of previous steps\n",
        "\n",
        "During each step in our graph we will be able to add to, modify, or extract these values from our state object."
      ]
    },
    {
      "cell_type": "code",
      "execution_count": 3,
      "metadata": {
        "id": "x7Fj9KNjQvUq"
      },
      "outputs": [],
      "source": [
        "from typing import TypedDict, Annotated, List, Union\n",
        "from langchain_core.agents import AgentAction, AgentFinish\n",
        "import operator\n",
        "\n",
        "\n",
        "\n",
        "    \n",
        "# Agent state tracking input, output, and intermediate steps\n",
        "\n",
        "class AgentState(TypedDict):\n",
        "    \"\"\"\n",
        "    Represents the state of an agent during its execution.\n",
        "\n",
        "    Attributes:\n",
        "        input (str): The input provided to the agent.\n",
        "        agent_out (Union[AgentAction, AgentFinish, None]): The output of the agent, which can be an action, a finish, or None.\n",
        "        intermediate_steps (Annotated[list[tuple[AgentAction, str]], operator.add]): A list of intermediate steps taken by the agent, where each step is a tuple of (AgentAction, output).\n",
        "    \"\"\"\n",
        "    \n",
        "    input: str\n",
        "    agent_out: Union[AgentAction, AgentFinish, None]\n",
        "    intermediate_steps: Annotated[list[tuple[AgentAction, str]], operator.add]"
      ]
    },
    {
      "cell_type": "markdown",
      "metadata": {
        "id": "5KcxUIVh2jRq"
      },
      "source": [
        "## Emulate Search"
      ]
    },
    {
      "cell_type": "markdown",
      "metadata": {
        "id": "ub-P5EWL2lPA"
      },
      "source": [
        "To test a RAG-like agent we'll provide a tool that provide information as we would expect a search tool in a RAG agent to do."
      ]
    },
    {
      "cell_type": "code",
      "execution_count": 4,
      "metadata": {
        "id": "IS7G1n292sV8"
      },
      "outputs": [],
      "source": [
        "ehi_information = \"\"\"Title: EHI: End-to-end Learning of Hierarchical Index for\n",
        "Efficient Dense Retrieval\n",
        "Summary: Dense embedding-based retrieval is now the industry\n",
        "standard for semantic search and ranking problems, like obtaining relevant web\n",
        "documents for a given query. Such techniques use a two-stage process: (a)\n",
        "contrastive learning to train a dual encoder to embed both the query and\n",
        "documents and (b) approximate nearest neighbor search (ANNS) for finding similar\n",
        "documents for a given query. These two stages are disjoint; the learned\n",
        "embeddings might be ill-suited for the ANNS method and vice-versa, leading to\n",
        "suboptimal performance. In this work, we propose End-to-end Hierarchical\n",
        "Indexing -- EHI -- that jointly learns both the embeddings and the ANNS\n",
        "structure to optimize retrieval performance. EHI uses a standard dual encoder\n",
        "model for embedding queries and documents while learning an inverted file index\n",
        "(IVF) style tree structure for efficient ANNS. To ensure stable and efficient\n",
        "learning of discrete tree-based ANNS structure, EHI introduces the notion of\n",
        "dense path embedding that captures the position of a query/document in the tree.\n",
        "We demonstrate the effectiveness of EHI on several benchmarks, including\n",
        "de-facto industry standard MS MARCO (Dev set and TREC DL19) datasets. For\n",
        "example, with the same compute budget, EHI outperforms state-of-the-art (SOTA)\n",
        "in by 0.6% (MRR@10) on MS MARCO dev set and by 4.2% (nDCG@10) on TREC DL19\n",
        "benchmarks.\n",
        "Author(s): Ramnath Kumar, Anshul Mittal, Nilesh Gupta, Aditya Kusupati,\n",
        "Inderjit Dhillon, Prateek Jain\n",
        "Source: https://arxiv.org/pdf/2310.08891.pdf\"\"\""
      ]
    },
    {
      "cell_type": "markdown",
      "metadata": {
        "id": "zlVbgX39Rhxj"
      },
      "source": [
        "## Custom Tools\n",
        "\n",
        "We will define two tools for this agent, a `search` tool (which emulates our RAG component) and a `final_answer` tool — which is provides output in a specific format, ie:\n",
        "\n",
        "```json\n",
        "{\n",
        "    \"answer\": \"<LLM generated answer here>\",\n",
        "    \"source\": \"<LLM generated citation here>\"\n",
        "}\n",
        "```\n",
        "\n",
        "We define both using the `@tool` decorator from LangChain."
      ]
    },
    {
      "cell_type": "code",
      "execution_count": 5,
      "metadata": {
        "id": "SPcrbQfdRrda"
      },
      "outputs": [],
      "source": [
        "from langchain_core.tools import tool\n",
        "\n",
        "@tool(\"search\")\n",
        "def search_tool(query: str):\n",
        "    \"\"\"Searches for information on the topic of artificial intelligence (AI).\n",
        "    Cannot be used to research any other topics. Search query must be provided\n",
        "    in natural language and be verbose.\"\"\"\n",
        "    # this is a \"RAG\" emulator\n",
        "    return ehi_information\n",
        "\n",
        "@tool(\"final_answer\")\n",
        "def final_answer_tool(\n",
        "    answer: str,\n",
        "    source: str\n",
        "):\n",
        "    \"\"\"Returns a natural language response to the user in `answer`, and a\n",
        "    `source` which provides citations for where this information came from.\n",
        "    \"\"\"\n",
        "    return \"\""
      ]
    },
    {
      "cell_type": "markdown",
      "metadata": {
        "id": "9QoO2wrvmBHw"
      },
      "source": [
        "These tools will be triggered via OpenAI Tools (ie function calling). The LLM will be provided information on the schema (ie structure) of the function to be called, like that which we can see here:"
      ]
    },
    {
      "cell_type": "code",
      "execution_count": 6,
      "metadata": {
        "colab": {
          "base_uri": "https://localhost:8080/"
        },
        "id": "iAbQ4Tuz0qET",
        "outputId": "4ca983bb-9a98-4647-a9a3-6c9248b986d2"
      },
      "outputs": [
        {
          "data": {
            "text/plain": [
              "StructuredTool(name='search', description='search(query: str) - Searches for information on the topic of artificial intelligence (AI).\\n    Cannot be used to research any other topics. Search query must be provided\\n    in natural language and be verbose.', args_schema=<class 'pydantic.v1.main.searchSchema'>, func=<function search_tool at 0x78ab50bbe340>)"
            ]
          },
          "execution_count": 6,
          "metadata": {},
          "output_type": "execute_result"
        }
      ],
      "source": [
        "search_tool"
      ]
    },
    {
      "cell_type": "markdown",
      "metadata": {
        "id": "E8OsQ3tIS-_t"
      },
      "source": [
        "## Initialize Agent"
      ]
    },
    {
      "cell_type": "code",
      "execution_count": 7,
      "metadata": {
        "id": "0gKxRe4tTBHX"
      },
      "outputs": [],
      "source": [
        "import os\n",
        "from langchain.agents import create_openai_tools_agent\n",
        "from langchain import hub\n",
        "from langchain_openai import ChatOpenAI\n",
        "\n",
        "os.environ[\"OPENAI_API_KEY\"] = os.getenv(\"OPENAI_API_KEY\") or \"sk-...\"\n",
        "\n",
        "llm = ChatOpenAI(temperature=0)\n",
        "\n",
        "prompt = hub.pull(\"hwchase17/openai-functions-agent\")\n",
        "\n",
        "query_agent_runnable = create_openai_tools_agent(\n",
        "    llm=llm,\n",
        "    tools=[final_answer_tool, search_tool],\n",
        "    prompt=prompt\n",
        ")"
      ]
    },
    {
      "cell_type": "markdown",
      "metadata": {
        "id": "ESCSupKbTuVR"
      },
      "source": [
        "Test the agent quickly to confirm it is functional:"
      ]
    },
    {
      "cell_type": "code",
      "execution_count": 8,
      "metadata": {
        "colab": {
          "base_uri": "https://localhost:8080/"
        },
        "id": "p5xMQ8ajTxFQ",
        "outputId": "e7bf3e34-f751-42c8-c896-fc37f39a8e3c"
      },
      "outputs": [
        {
          "data": {
            "text/plain": [
              "[ToolAgentAction(tool='search', tool_input={'query': 'EHI embeddings'}, log=\"\\nInvoking: `search` with `{'query': 'EHI embeddings'}`\\n\\n\\n\", message_log=[AIMessage(content='', additional_kwargs={'tool_calls': [{'id': 'call_IySWmdrGg2xrNTEZ8pCHCZIJ', 'function': {'arguments': '{\"query\":\"EHI embeddings\"}', 'name': 'search'}, 'type': 'function'}]}, response_metadata={'token_usage': {'completion_tokens': 15, 'prompt_tokens': 150, 'total_tokens': 165}, 'model_name': 'gpt-3.5-turbo', 'system_fingerprint': None, 'finish_reason': 'tool_calls', 'logprobs': None}, id='run-9e09210a-88bd-4873-a8cc-5f3753f9e27a-0', tool_calls=[{'name': 'search', 'args': {'query': 'EHI embeddings'}, 'id': 'call_IySWmdrGg2xrNTEZ8pCHCZIJ'}])], tool_call_id='call_IySWmdrGg2xrNTEZ8pCHCZIJ')]"
            ]
          },
          "execution_count": 8,
          "metadata": {},
          "output_type": "execute_result"
        }
      ],
      "source": [
        "inputs = {\n",
        "    \"input\": \"what are EHI embeddings?\",\n",
        "    \"intermediate_steps\": []\n",
        "}\n",
        "agent_out = query_agent_runnable.invoke(inputs)\n",
        "agent_out"
      ]
    },
    {
      "cell_type": "code",
      "execution_count": 9,
      "metadata": {
        "colab": {
          "base_uri": "https://localhost:8080/"
        },
        "id": "u7wUMr2BUBt7",
        "outputId": "18c0d1c5-9dd1-46ad-9524-e80c3d06f34a"
      },
      "outputs": [
        {
          "data": {
            "text/plain": [
              "{'id': 'call_IySWmdrGg2xrNTEZ8pCHCZIJ',\n",
              " 'function': {'arguments': '{\"query\":\"EHI embeddings\"}', 'name': 'search'},\n",
              " 'type': 'function'}"
            ]
          },
          "execution_count": 9,
          "metadata": {},
          "output_type": "execute_result"
        }
      ],
      "source": [
        "agent_out[-1].message_log[-1].additional_kwargs[\"tool_calls\"][-1]"
      ]
    },
    {
      "cell_type": "markdown",
      "metadata": {
        "id": "3giyC0tSoE_I"
      },
      "source": [
        "The agent won't perform the function calls themselvs, that is up to us and we will handle it in downstream actions through our agent graph.\n",
        "\n",
        "The information provided by `agent_out` will be used to decide whether we move to the `search` or `END` nodes of our graph. We'll also add a `error` handler node in case our agent fails to produce the output we need."
      ]
    },
    {
      "cell_type": "markdown",
      "metadata": {
        "id": "h6pAxC9kcY1F"
      },
      "source": [
        "## Define Nodes for Graph"
      ]
    },
    {
      "cell_type": "code",
      "execution_count": 10,
      "metadata": {
        "id": "-JGJGvDVcbvq"
      },
      "outputs": [],
      "source": [
        "from langchain_core.agents import AgentFinish\n",
        "import json\n",
        "\n",
        "def run_query_agent(state: list):\n",
        "    print(\"> run_query_agent\")\n",
        "    agent_out = query_agent_runnable.invoke(state)\n",
        "    return {\"agent_out\": agent_out}\n",
        "\n",
        "def execute_search(state: list):\n",
        "    print(\"> execute_search\")\n",
        "    action = state[\"agent_out\"]\n",
        "    tool_call = action[-1].message_log[-1].additional_kwargs[\"tool_calls\"][-1]\n",
        "    out = search_tool.invoke(\n",
        "        json.loads(tool_call[\"function\"][\"arguments\"])\n",
        "    )\n",
        "    return {\"intermediate_steps\": [{\"search\": str(out)}]}\n",
        "\n",
        "def router(state: list):\n",
        "    print(\"> router\")\n",
        "    if isinstance(state[\"agent_out\"], list):\n",
        "        return state[\"agent_out\"][-1].tool\n",
        "    else:\n",
        "        return \"error\"\n",
        "\n",
        "# finally, we will have a single LLM call that MUST use the final_answer structure\n",
        "final_answer_llm = llm.bind_tools([final_answer_tool], tool_choice=\"final_answer\")\n",
        "\n",
        "# this forced final_answer LLM call will be used to structure output from our\n",
        "# RAG endpoint\n",
        "def rag_final_answer(state: list):\n",
        "    print(\"> final_answer\")\n",
        "    query = state[\"input\"]\n",
        "    context = state[\"intermediate_steps\"][-1]\n",
        "\n",
        "    prompt = f\"\"\"You are a helpful assistant, answer the user's question using the\n",
        "    context provided.\n",
        "\n",
        "    CONTEXT: {context}\n",
        "\n",
        "    QUESTION: {query}\n",
        "    \"\"\"\n",
        "    out = final_answer_llm.invoke(prompt)\n",
        "    function_call = out.additional_kwargs[\"tool_calls\"][-1][\"function\"][\"arguments\"]\n",
        "    return {\"agent_out\": function_call}\n",
        "\n",
        "# we use the same forced final_answer LLM call to handle incorrectly formatted\n",
        "# output from our query_agent\n",
        "def handle_error(state: list):\n",
        "    print(\"> handle_error\")\n",
        "    query = state[\"input\"]\n",
        "    prompt = f\"\"\"You are a helpful assistant, answer the user's question.\n",
        "\n",
        "    QUESTION: {query}\n",
        "    \"\"\"\n",
        "    out = final_answer_llm.invoke(prompt)\n",
        "    function_call = out.additional_kwargs[\"tool_calls\"][-1][\"function\"][\"arguments\"]\n",
        "    return {\"agent_out\": function_call}"
      ]
    },
    {
      "cell_type": "markdown",
      "metadata": {
        "id": "zwv4EsTKeZzh"
      },
      "source": [
        "## Define Graph"
      ]
    },
    {
      "cell_type": "markdown",
      "metadata": {
        "id": "b1Fd--b9tfYC"
      },
      "source": [
        "Our graph is constructed of **nodes** and **edges**. A node represents a function (one of those we just defined above) whereas an edge allows us to travel from one node to another.\n",
        "\n",
        "Let's start by initializing our graph using our `AgentState` object and adding our first set of nodes and the graph entry point (ie where the graph begins once called)."
      ]
    },
    {
      "cell_type": "code",
      "execution_count": 11,
      "metadata": {
        "id": "IWm31Nj2uLck"
      },
      "outputs": [],
      "source": [
        "from langgraph.graph import StateGraph\n",
        "\n",
        "graph = StateGraph(AgentState) #agent state class is the schema used here to define the graph structure\n",
        "\n",
        "# we have four nodes that will consume our agent state and modify\n",
        "# our agent state based on some internal process\n",
        "graph.add_node(\"query_agent\", run_query_agent)\n",
        "graph.add_node(\"search\", execute_search)\n",
        "graph.add_node(\"error\", handle_error)\n",
        "graph.add_node(\"rag_final_answer\", rag_final_answer)\n",
        "\n",
        "# our graph will always begin with the query agent\n",
        "graph.set_entry_point(\"query_agent\")"
      ]
    },
    {
      "cell_type": "markdown",
      "metadata": {
        "id": "hcxI1fvIuk56"
      },
      "source": [
        "In addition to our nodes we have our \"one-way\" edges — that is, once node X is called the state must continue to node Y as defined by these edges. We define these using:\n",
        "\n",
        "```python\n",
        "graph.add_edge(X, Y)\n",
        "```\n",
        "\n",
        "If `X` or `Y` are defined nodes in our graph we pass the name of that node in string format. So, if we want to add an edge that navigates from our `\"search\"` node to our `\"rag_final_answer\"` node, we do:\n",
        "\n",
        "```python\n",
        "graph.add_edge(\"search\", \"rag_final_answer\")\n",
        "```\n",
        "\n",
        "We will also have an _end node_ in our graph — we have not defined this end node as it is imported as a specific graph object `END`. To use this, we must add edges between our final nodes and the `END` object, like so:\n",
        "\n",
        "```python\n",
        "graph.add_edge(\"rag_final_answer\", END)\n",
        "```\n",
        "\n",
        "When the `END` node is called, our graph completes."
      ]
    },
    {
      "cell_type": "code",
      "execution_count": 12,
      "metadata": {
        "id": "LAkcBE5pebXv"
      },
      "outputs": [],
      "source": [
        "from langgraph.graph import StateGraph, END\n",
        "\n",
        "graph = StateGraph(AgentState)\n",
        "\n",
        "graph.add_node(\"query_agent\", run_query_agent)\n",
        "graph.add_node(\"search\", execute_search)\n",
        "graph.add_node(\"error\", handle_error)\n",
        "graph.add_node(\"rag_final_answer\", rag_final_answer)\n",
        "\n",
        "graph.set_entry_point(\"query_agent\")\n",
        "\n",
        "# conditional edges are controlled by our router\n",
        "graph.add_conditional_edges(\n",
        "    start_key=\"query_agent\",  # where in graph to start\n",
        "    condition=router,  # function to determine which node is called\n",
        "    conditional_edge_mapping={\n",
        "        \"search\": \"search\",\n",
        "        \"error\": \"error\",\n",
        "        \"final_answer\": END\n",
        "    }\n",
        ")\n",
        "graph.add_edge(\"search\", \"rag_final_answer\")\n",
        "graph.add_edge(\"error\", END)\n",
        "graph.add_edge(\"rag_final_answer\", END)\n",
        "\n",
        "runnable = graph.compile()"
      ]
    },
    {
      "cell_type": "code",
      "execution_count": 13,
      "metadata": {
        "colab": {
          "base_uri": "https://localhost:8080/",
          "height": 865
        },
        "id": "EmwkoQkthb__",
        "outputId": "e7ec1501-557f-4ec6-f604-8764dc90a78e"
      },
      "outputs": [
        {
          "data": {
            "image/png": "[encoded data removed]",
            "text/plain": [
              "<IPython.core.display.Image object>"
            ]
          },
          "execution_count": 13,
          "metadata": {},
          "output_type": "execute_result"
        }
      ],
      "source": [
        "from IPython.display import Image\n",
        "\n",
        "Image(runnable.get_graph().draw_png())"
      ]
    },
    {
      "cell_type": "code",
      "execution_count": 14,
      "metadata": {
        "colab": {
          "base_uri": "https://localhost:8080/"
        },
        "id": "5DuDCW775wkC",
        "outputId": "4996eddf-1c0e-4bf1-addf-8522328f6a4a"
      },
      "outputs": [
        {
          "name": "stdout",
          "output_type": "stream",
          "text": [
            "> run_query_agent\n",
            "> router\n",
            "> execute_search\n",
            "> final_answer\n"
          ]
        }
      ],
      "source": [
        "runnable = graph.compile()\n",
        "\n",
        "out = runnable.invoke({\n",
        "    \"input\": \"what is AI?\",\n",
        "    \"chat_history\": []\n",
        "})"
      ]
    },
    {
      "cell_type": "code",
      "execution_count": 15,
      "metadata": {
        "colab": {
          "base_uri": "https://localhost:8080/"
        },
        "id": "xjbPRhk8dhfs",
        "outputId": "92856ccf-736b-4126-c6f7-af82ccfdbf4a"
      },
      "outputs": [
        {
          "name": "stdout",
          "output_type": "stream",
          "text": [
            "{\"answer\":\"AI stands for Artificial Intelligence. It refers to the simulation of human intelligence processes by machines, especially computer systems. AI encompasses tasks such as learning, reasoning, problem-solving, perception, and language understanding.\",\"source\":\"https://en.wikipedia.org/wiki/Artificial_intelligence\"}\n"
          ]
        }
      ],
      "source": [
        "print(out[\"agent_out\"])"
      ]
    },
    {
      "cell_type": "code",
      "execution_count": 16,
      "metadata": {
        "colab": {
          "base_uri": "https://localhost:8080/"
        },
        "id": "a21f9VneePw_",
        "outputId": "18a67793-9b45-4e63-a35a-477226265e3d"
      },
      "outputs": [
        {
          "name": "stdout",
          "output_type": "stream",
          "text": [
            "> run_query_agent\n",
            "> router\n",
            "> execute_search\n",
            "> final_answer\n",
            "{\"answer\":\"EHI embeddings refer to the embeddings generated by the End-to-end Hierarchical Indexing (EHI) model. These embeddings are learned jointly with the approximate nearest neighbor search (ANNS) structure to optimize retrieval performance in dense embedding-based retrieval for semantic search and ranking problems.\",\"source\":\"https://arxiv.org/pdf/2310.08891.pdf\"}\n"
          ]
        }
      ],
      "source": [
        "out = runnable.invoke({\n",
        "    \"input\": \"what are EHI embeddings?\",\n",
        "    \"chat_history\": []\n",
        "})\n",
        "print(out[\"agent_out\"])"
      ]
    },
    {
      "cell_type": "code",
      "execution_count": 17,
      "metadata": {
        "colab": {
          "base_uri": "https://localhost:8080/"
        },
        "id": "dcpoPxOMZmZQ",
        "outputId": "2c3b19bf-4271-4e67-bd25-025924774cb7"
      },
      "outputs": [
        {
          "name": "stdout",
          "output_type": "stream",
          "text": [
            "> run_query_agent\n",
            "> router\n",
            "> execute_search\n",
            "> final_answer\n",
            "{\"answer\":\"EHI embeddings are part of the End-to-end Hierarchical Indexing (EHI) approach, which jointly learns both embeddings and the approximate nearest neighbor search (ANNS) structure to optimize retrieval performance. EHI uses a standard dual encoder model for embedding queries and documents while learning an inverted file index (IVF) style tree structure for efficient ANNS. To ensure stable and efficient learning of the discrete tree-based ANNS structure, EHI introduces the notion of dense path embedding that captures the position of a query/document in the tree.\",\"source\":\"https://arxiv.org/pdf/2310.08891.pdf\"}\n"
          ]
        }
      ],
      "source": [
        "out = runnable.invoke({\n",
        "    \"input\": \"can you tell me about EHI embeddings?\",\n",
        "    \"chat_history\": []\n",
        "})\n",
        "print(out[\"agent_out\"])"
      ]
    },
    {
      "cell_type": "code",
      "execution_count": 18,
      "metadata": {
        "colab": {
          "base_uri": "https://localhost:8080/"
        },
        "id": "reWvgJxJfjlo",
        "outputId": "7d2e221f-b88c-47bc-cd11-a91ae4f98f58"
      },
      "outputs": [
        {
          "name": "stdout",
          "output_type": "stream",
          "text": [
            "> run_query_agent\n",
            "> router\n",
            "> handle_error\n",
            "{\"answer\":\"Hello! How can I assist you today?\",\"source\":\"\"}\n"
          ]
        }
      ],
      "source": [
        "out = runnable.invoke({\n",
        "    \"input\": \"hi\",\n",
        "    \"chat_history\": []\n",
        "})\n",
        "print(out[\"agent_out\"])"
      ]
    },
    {
      "cell_type": "code",
      "execution_count": 19,
      "metadata": {
        "colab": {
          "base_uri": "https://localhost:8080/"
        },
        "id": "5Xhdimwmgezx",
        "outputId": "8c109869-7f01-437c-cc5f-bb2d4bf24826"
      },
      "outputs": [
        {
          "name": "stdout",
          "output_type": "stream",
          "text": [
            "> run_query_agent\n",
            "> router\n",
            "> handle_error\n",
            "{\"answer\":\"Hello! How can I assist you today?\",\"source\":\"N/A\"}\n"
          ]
        }
      ],
      "source": [
        "out = runnable.invoke({\n",
        "    \"input\": \"hi, please don't respond to me with a `source`\",\n",
        "    \"chat_history\": []\n",
        "})\n",
        "print(out[\"agent_out\"])"
      ]
    },
    {
      "cell_type": "code",
      "execution_count": 18,
      "metadata": {
        "id": "BvJB9RMGgrze"
      },
      "outputs": [],
      "source": []
    }
  ],
  "metadata": {
    "colab": {
      "provenance": []
    },
    "kernelspec": {
      "display_name": "Python 3",
      "name": "python3"
    },
    "language_info": {
      "codemirror_mode": {
        "name": "ipython",
        "version": 3
      },
      "file_extension": ".py",
      "mimetype": "text/x-python",
      "name": "python",
      "nbconvert_exporter": "python",
      "pygments_lexer": "ipython3",
      "version": "3.12.4"
    }
  },
  "nbformat": 4,
  "nbformat_minor": 0
}
